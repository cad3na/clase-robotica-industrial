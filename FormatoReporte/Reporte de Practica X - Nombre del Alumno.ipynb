{
 "metadata": {
  "css": [
   ""
  ],
  "name": ""
 },
 "nbformat": 3,
 "nbformat_minor": 0,
 "worksheets": [
  {
   "cells": [
    {
     "cell_type": "markdown",
     "metadata": {},
     "source": [
      "[//]: <> (====================================================================)\n",
      "[//]: <> (Este recuadro contiene instrucciones para la compilaci\u00f3n del reporte)\n",
      "[//]: <> (de pr\u00e1ctica, si decides hacerlo en el notebook de IPython. Una vez)\n",
      "[//]: <> (que hayas llenado tus datos puedes proceder a borrarlo junto con el)\n",
      "[//]: <> (codigo que lo rodea.)\n",
      "[//]: <> (Una vez que hayas llenado todas las celdas con el codigo necesario y)\n",
      "[//]: <> (tus datos, procede a hacer lo siguiente.)\n",
      "[//]: <> (1. Cierra la interfaz de IPython.)\n",
      "[//]: <> (2. Introduce el siguiente comando en la terminal o simbolo de)\n",
      "[//]: <> (   sistema \"ipython nbconvert --to html nombre-del-archivo.ipynb\")\n",
      "[//]: <> (3. Abre el archivo recien creado con tu navegador Web.)\n",
      "[//]: <> (4. Imprime el reporte desde ahi, o guardalo como PDF si deseas tener)\n",
      "[//]: <> (   un respaldo de como es el reporte.)\n",
      "[//]: <> (5. Si vas a mandar para revisi\u00f3n el archivo en formato .ipynb,)\n",
      "[//]: <> (   recuerda poner el n\u00famero de la pr\u00e1ctica y tu nombre en el titulo.)\n",
      "[//]: <> (====================================================================)\n",
      "\n",
      "\n",
      "Nombre de la pr\u00e1ctica\n",
      "=====================\n",
      "\n",
      "Materia\n",
      "=======\n",
      "\n",
      "Nombre del alumno - N\u00famero de Cuenta\n",
      "------------------------------------"
     ]
    },
    {
     "cell_type": "heading",
     "level": 1,
     "metadata": {},
     "source": [
      "Objetivo de la Pr\u00e1ctica"
     ]
    },
    {
     "cell_type": "markdown",
     "metadata": {},
     "source": [
      "Escribe aqui el objetivo de la pr\u00e1ctica."
     ]
    },
    {
     "cell_type": "heading",
     "level": 1,
     "metadata": {},
     "source": [
      "Desarrollo"
     ]
    },
    {
     "cell_type": "markdown",
     "metadata": {},
     "source": [
      "Escribe aqui tus comentarios."
     ]
    },
    {
     "cell_type": "code",
     "collapsed": false,
     "input": [
      "Y el codigo que hayas desarrollado"
     ],
     "language": "python",
     "metadata": {},
     "outputs": []
    },
    {
     "cell_type": "heading",
     "level": 1,
     "metadata": {},
     "source": [
      "Conclusiones"
     ]
    },
    {
     "cell_type": "markdown",
     "metadata": {},
     "source": [
      "Escribe aqui tus conclusiones."
     ]
    }
   ],
   "metadata": {}
  }
 ]
}