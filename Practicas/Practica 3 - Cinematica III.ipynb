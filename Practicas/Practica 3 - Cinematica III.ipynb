{
 "metadata": {
  "name": ""
 },
 "nbformat": 3,
 "nbformat_minor": 0,
 "worksheets": [
  {
   "cells": [
    {
     "cell_type": "heading",
     "level": 1,
     "metadata": {},
     "source": [
      "Cinem\u00e1tica III"
     ]
    },
    {
     "cell_type": "markdown",
     "metadata": {},
     "source": [
      "Hasta el momento hemos usado solamente numeros para representar las transformaciones que describen la cinematica de los manipuladores, pero dentro del ambiente de IPython tenemos una libreria que nos va a ayudar mucho cuando queremos calcular una formula general."
     ]
    },
    {
     "cell_type": "heading",
     "level": 2,
     "metadata": {},
     "source": [
      "Sympy"
     ]
    },
    {
     "cell_type": "markdown",
     "metadata": {},
     "source": [
      "La libreria de sympy nos ofrece herramientas de calculo analitico y numerico para analisis simbolico (por lo general nos referimos a el simplemente como calculo simbolico). Lo primero que tenemos que hacer es inicializar las funciones de sympy que vamos a necesitar."
     ]
    },
    {
     "cell_type": "code",
     "collapsed": false,
     "input": [
      "# Importa la funci\u00f3n para imprimir LaTeX en el notebook de IPython\n",
      "from sympy.interactive import printing\n",
      "printing.init_printing()\n",
      "# Importamos funciones utiles para algebra\n",
      "from sympy import var, simplify, collect, expand, solve, sin, cos, Matrix"
     ],
     "language": "python",
     "metadata": {},
     "outputs": []
    },
    {
     "cell_type": "markdown",
     "metadata": {},
     "source": [
      "Y ahora podemos inicializar las variables que vamos a ocupar, esto lo hacemos asi:"
     ]
    },
    {
     "cell_type": "code",
     "collapsed": false,
     "input": [
      "var(\"x y z\")"
     ],
     "language": "python",
     "metadata": {},
     "outputs": []
    },
    {
     "cell_type": "markdown",
     "metadata": {},
     "source": [
      "Podemos representar cualquier tipo de expresi\u00f3n que queramos:"
     ]
    },
    {
     "cell_type": "code",
     "collapsed": false,
     "input": [
      "x**2 + sin(y) + 3*x + 1"
     ],
     "language": "python",
     "metadata": {},
     "outputs": []
    },
    {
     "cell_type": "markdown",
     "metadata": {},
     "source": [
      "Incluso resolver algunas formulas con algebra o trigonometria:"
     ]
    },
    {
     "cell_type": "code",
     "collapsed": false,
     "input": [
      "solve(x**2 + 2*x + 1, x)"
     ],
     "language": "python",
     "metadata": {},
     "outputs": []
    },
    {
     "cell_type": "code",
     "collapsed": false,
     "input": [
      "solve(sin(y) + cos(y), y)"
     ],
     "language": "python",
     "metadata": {},
     "outputs": []
    },
    {
     "cell_type": "markdown",
     "metadata": {},
     "source": [
      "Podemos guardar estas expresiones en variables, y estas variables van a tener metodos especiales, como por ejemplo la derivada."
     ]
    },
    {
     "cell_type": "code",
     "collapsed": false,
     "input": [
      "f = sin(x) + x"
     ],
     "language": "python",
     "metadata": {},
     "outputs": []
    },
    {
     "cell_type": "code",
     "collapsed": false,
     "input": [
      "f.diff(x)"
     ],
     "language": "python",
     "metadata": {},
     "outputs": []
    },
    {
     "cell_type": "markdown",
     "metadata": {},
     "source": [
      "Y tambien podemos representar matrices."
     ]
    },
    {
     "cell_type": "code",
     "collapsed": false,
     "input": [
      "Rz = Matrix([[cos(x), -sin(x), 0, 0],\n",
      "             [sin(x),  cos(x), 0, 0],\n",
      "             [     0,       0, 1, 0],\n",
      "             [     0,       0, 0, 1]])\n",
      "Rz"
     ],
     "language": "python",
     "metadata": {},
     "outputs": []
    },
    {
     "cell_type": "markdown",
     "metadata": {},
     "source": [
      "y usarla para operaciones:"
     ]
    },
    {
     "cell_type": "code",
     "collapsed": false,
     "input": [
      "Rz*Rz"
     ],
     "language": "python",
     "metadata": {},
     "outputs": []
    },
    {
     "cell_type": "markdown",
     "metadata": {},
     "source": [
      "Nuestras funciones de Python, tambien nos pueden regresar objetos de sympy:"
     ]
    },
    {
     "cell_type": "code",
     "collapsed": false,
     "input": [
      "def rotacionz(theta):\n",
      "    '''\n",
      "    Esta funci\u00f3n devuelve una matriz de rotaci\u00f3n con respecto al eje z\n",
      "    con una magnitud de theta.\n",
      "    \n",
      "    Uso:\n",
      "    \n",
      "    >>> rotacionz(y)\n",
      "    Matrix([\n",
      "    [cos(y), -sin(y), 0, 0],\n",
      "    [sin(y),  cos(y), 0, 0],\n",
      "    [     0,       0, 1, 0],\n",
      "    [     0,       0, 0, 1]])\n",
      "    '''\n",
      "    Rz = Matrix([[cos(theta), -sin(theta), 0, 0],\n",
      "                 [sin(theta),  cos(theta), 0, 0],\n",
      "                 [         0,           0, 1, 0],\n",
      "                 [         0,           0, 0, 1]])\n",
      "    return Rz"
     ],
     "language": "python",
     "metadata": {},
     "outputs": []
    },
    {
     "cell_type": "code",
     "collapsed": false,
     "input": [
      "var(\"q_1\")\n",
      "rotacionz(q_1)"
     ],
     "language": "python",
     "metadata": {},
     "outputs": []
    },
    {
     "cell_type": "heading",
     "level": 2,
     "metadata": {},
     "source": [
      "Ejercicios"
     ]
    },
    {
     "cell_type": "markdown",
     "metadata": {},
     "source": [
      "1. Implemente el codigo necesario para tener funciones que describan las rotaciones en $x$ y en $y$ y las traslaciones en $x$, $y$ y $z$.\n",
      "2. Implemente una funci\u00f3n que nos devuelva la transformaci\u00f3n homogenea de un manipulador PUMA."
     ]
    }
   ],
   "metadata": {}
  }
 ]
}