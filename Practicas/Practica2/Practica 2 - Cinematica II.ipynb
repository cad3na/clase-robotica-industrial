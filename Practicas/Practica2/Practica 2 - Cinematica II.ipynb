{
 "metadata": {
  "name": ""
 },
 "nbformat": 3,
 "nbformat_minor": 0,
 "worksheets": [
  {
   "cells": [
    {
     "cell_type": "heading",
     "level": 1,
     "metadata": {},
     "source": [
      "Cinem\u00e1tica II"
     ]
    },
    {
     "cell_type": "heading",
     "level": 2,
     "metadata": {},
     "source": [
      "Graficas y funciones inversas"
     ]
    },
    {
     "cell_type": "heading",
     "level": 3,
     "metadata": {},
     "source": [
      "plot()"
     ]
    },
    {
     "cell_type": "markdown",
     "metadata": {},
     "source": [
      "En esta ocasi\u00f3n ya tenemos un poco mas de conocimientos tanto del lenguaje de programaci\u00f3n Python, como de la implementaci\u00f3n de un flujo de calculo cientifico en un lenguaje de programaci\u00f3n, pero ahora nos interesa como graficar la posici\u00f3n de nuestro manipulador en un plano cartesiano, por lo que empezaremos a ver la funcion:\n",
      "\n",
      "    plot()\n",
      "\n",
      "Empezaremos por graficar una funci\u00f3n sencilla.\n",
      "\n",
      "$f(x) = x^2 + 1$\n",
      "\n",
      "Primero tenemos que definirla:"
     ]
    },
    {
     "cell_type": "code",
     "collapsed": false,
     "input": [
      "f = lambda x: x**2 + 1 "
     ],
     "language": "python",
     "metadata": {},
     "outputs": []
    },
    {
     "cell_type": "markdown",
     "metadata": {},
     "source": [
      "Ahora tenemos que crear un grupo de puntos en donde evaluar nuestra funci\u00f3n. Esto lo haremos con la funci\u00f3n:\n",
      "\n",
      "    linspace(x0, x1, n)\n",
      "    \n",
      "la que como su nombre lo indica, crear\u00e1 un espacio lineal de datos desde $x_0$ hasta $x_1$, con un numero $n$ de puntos."
     ]
    },
    {
     "cell_type": "code",
     "collapsed": false,
     "input": [
      "x = linspace(-10, 10, 100)\n",
      "x"
     ],
     "language": "python",
     "metadata": {},
     "outputs": []
    },
    {
     "cell_type": "markdown",
     "metadata": {},
     "source": [
      "Ahora que tenemos nuestro conjunto de puntos $x$ para evaluar nuestra funci\u00f3n, podemos guardarlos en otro arreglo $y$."
     ]
    },
    {
     "cell_type": "code",
     "collapsed": false,
     "input": [
      "y = f(x)"
     ],
     "language": "python",
     "metadata": {},
     "outputs": []
    },
    {
     "cell_type": "markdown",
     "metadata": {},
     "source": [
      "Y podemos graficar simplemente mandando a llamar a la funci\u00f3n de la siguiente manera:\n",
      "\n",
      "    plot(x, y)"
     ]
    },
    {
     "cell_type": "code",
     "collapsed": false,
     "input": [
      "plot(x, y)"
     ],
     "language": "python",
     "metadata": {},
     "outputs": []
    },
    {
     "cell_type": "heading",
     "level": 3,
     "metadata": {},
     "source": [
      "zip()"
     ]
    },
    {
     "cell_type": "markdown",
     "metadata": {},
     "source": [
      "Si te fijas, tenemos una grafica de la funci\u00f3n que queriamos, pero la funci\u00f3n que utilizamos, tiene una particularidad que nos ayudo en este caso. El comando\n",
      "    plot(x, y)\n",
      "toma como argumentos a un arreglo $x$ y otro $y$ que contienen los puntos de la grafica, pero distribuidos... tal ves ser\u00e1 mas facil que lo veas:"
     ]
    },
    {
     "cell_type": "code",
     "collapsed": false,
     "input": [
      "x"
     ],
     "language": "python",
     "metadata": {},
     "outputs": []
    },
    {
     "cell_type": "code",
     "collapsed": false,
     "input": [
      "y"
     ],
     "language": "python",
     "metadata": {},
     "outputs": []
    },
    {
     "cell_type": "markdown",
     "metadata": {},
     "source": [
      "$x$ y $y$ son dos arreglos diferentes con las coordenadas $x$ y $y$ de cada punto."
     ]
    },
    {
     "cell_type": "markdown",
     "metadata": {},
     "source": [
      "Habr\u00e1 alguna manera de obtener un solo arreglo con los pares de coordenadas? La funci\u00f3n zip().\n",
      "\n",
      "    zip(x, y)\n",
      "    \n",
      "Toma dos arreglos $x$ y $y$ y los junta en uno solo:"
     ]
    },
    {
     "cell_type": "code",
     "collapsed": false,
     "input": [
      "zip(x, y)"
     ],
     "language": "python",
     "metadata": {},
     "outputs": []
    },
    {
     "cell_type": "markdown",
     "metadata": {},
     "source": [
      "Y ahora si, nos quedan pares de coordenadas."
     ]
    },
    {
     "cell_type": "heading",
     "level": 3,
     "metadata": {},
     "source": [
      "Cinem\u00e1tica Directa"
     ]
    },
    {
     "cell_type": "markdown",
     "metadata": {},
     "source": [
      "En la pr\u00e1ctica pasada obtuvimos la cinem\u00e1tica directa para un manipulador Stanford, sin embargo este manipulador trabaja en un espacio de 3 dimensiones, y primero tenemos que empezar con un manipulador que trabaje en 2 dimensiones, por lo que regresaremos a nuestro viejo amigo, el robot planar angular.\n",
      "\n",
      "Primero tenemos que recordar, que la cinem\u00e1tica directa obtenida de este robot era:\n",
      "\n",
      "$$\n",
      "\\begin{pmatrix}\n",
      "    c_{12} & -s_{12} & 0 & l_1 c_{1} + l_2 c_{12} \\\\\n",
      "    s_{12} & c_{12} & 0 & l_1 s_{1} + l_2 s_{12} \\\\\n",
      "    0 & 0 & 1 & 0 \\\\\n",
      "    0 & 0 & 0 & 1\n",
      "\\end{pmatrix}\n",
      "$$\n",
      "\n",
      "Es decir, que la ubicaci\u00f3n del efector final era:\n",
      "\n",
      "$$\n",
      "r = \n",
      "\\begin{pmatrix}\n",
      "    x_f \\\\\n",
      "    y_f \\\\\n",
      "    \\phi_f\n",
      "\\end{pmatrix} =\n",
      "\\begin{pmatrix}\n",
      "    l_1 c_1 + l_2 c_{12} \\\\\n",
      "    l_1 s_1 + l_2 s_{12} \\\\\n",
      "    q_1 + q_2\n",
      "\\end{pmatrix}\n",
      "$$\n",
      "\n",
      "Por lo que podemos obtener la posici\u00f3n del efector final facilmente, con las funciones $x$ y $y$"
     ]
    },
    {
     "cell_type": "code",
     "collapsed": false,
     "input": [
      "xf = lambda q_1, q_2, l_1, l_2: l_1*cos(q_1) + l_2*cos(q_1 + q_2)"
     ],
     "language": "python",
     "metadata": {},
     "outputs": []
    },
    {
     "cell_type": "code",
     "collapsed": false,
     "input": [
      "yf = lambda q_1, q_2, l_1, l_2: l_1*sin(q_1) + l_2*sin(q_1 + q_2)"
     ],
     "language": "python",
     "metadata": {},
     "outputs": []
    },
    {
     "cell_type": "markdown",
     "metadata": {},
     "source": [
      "Si queremos graficar el punto final de nuestro manipulador, tan solo tenemos que mandar a llamar a la funcion plot, con estos valores."
     ]
    },
    {
     "cell_type": "code",
     "collapsed": false,
     "input": [
      "tau = 2*pi\n",
      "plot([0, xf(tau/6, tau/12, 10, 15)],\n",
      "     [0, yf(tau/6, tau/12, 10, 15)])"
     ],
     "language": "python",
     "metadata": {},
     "outputs": []
    },
    {
     "cell_type": "markdown",
     "metadata": {},
     "source": [
      "Pero esto tan solo nos da la posici\u00f3n final \u00bfQue tendriamos que hacer para obtener las posiciones intermedias? La soluci\u00f3n esta en ver las transformaciones homogeneas que habiamos hecho para este manipulador.\n",
      "\n",
      "Recordemos un poco las transformaciones de nuestro manipulador. Existe una rotaci\u00f3n con respecto a $z$ de $q_1$ y una traslaci\u00f3n de $l_1$ para el primer eslabon. Para el segundo eslabon existe una rotaci\u00f3n en $z$ de $q_2$ y una traslaci\u00f3n de $l_2$. Lo primero que hacemos es definir las funciones para la rotaci\u00f3n y traslaci\u00f3n."
     ]
    },
    {
     "cell_type": "code",
     "collapsed": false,
     "input": [
      "def rotacionz(theta):\n",
      "    '''\n",
      "    Esta funci\u00f3n devuelve una matriz de transformaci\u00f3n homogenea para la rotaci\u00f3n\n",
      "    alrededor del eje z con un angulo theta.\n",
      "    \n",
      "    Uso:\n",
      "    \n",
      "    >>> rotacionz(radians(30))\n",
      "    matrix([[ 0.8660254, -0.5      ,  0.       ,  0.       ],\n",
      "            [ 0.5      ,  0.8660254,  0.       ,  0.       ],\n",
      "            [ 0.       ,  0.       ,  1.       ,  0.       ],\n",
      "            [ 0.       ,  0.       ,  0.       ,  1.       ]])\n",
      "    '''\n",
      "    Rz = matrix([[cos(theta), -sin(theta), 0, 0],\n",
      "                 [sin(theta),  cos(theta), 0, 0],\n",
      "                 [0,           0,          1, 0],\n",
      "                 [0,           0,          0, 1]])\n",
      "    return Rz\n",
      "\n",
      "def traslacionx(d):\n",
      "    '''\n",
      "    Esta funci\u00f3n devuelve una matriz de transformaci\u00f3n homogenea para la traslaci\u00f3n\n",
      "    a lo largo del eje x con una distancia d.\n",
      "    \n",
      "    Uso:\n",
      "    \n",
      "    >>> traslacionx(15)\n",
      "    matrix([[ 1,  0,  0, 15],\n",
      "            [ 0,  1,  0,  0],\n",
      "            [ 0,  0,  1,  0],\n",
      "            [ 0,  0,  0,  1]])\n",
      "    '''\n",
      "    Tx = matrix([[1, 0, 0, d],\n",
      "                 [0, 1, 0, 0],\n",
      "                 [0, 0, 1, 0],\n",
      "                 [0, 0, 0, 1]])\n",
      "    return Tx"
     ],
     "language": "python",
     "metadata": {},
     "outputs": []
    },
    {
     "cell_type": "markdown",
     "metadata": {},
     "source": [
      "\u00bfViste las partes que aparecen en rojo? A estos se les llama comentarios de documentaci\u00f3n, o docstrings, nos ayudan para mantener el codigo legible y entendible para cualquier persona ajena a el (o incluso para ti mismo meses despues), la proxima ves que quieras mandar a llamar a tu funci\u00f3n intenta teclear tabulador mientras estas en el area de las variables de entrada. Asi pues, sacar la transformaci\u00f3n homogenea del manipulador completo se puede resumir en una funcion como la que sigue:"
     ]
    },
    {
     "cell_type": "code",
     "collapsed": false,
     "input": [
      "def robot_planar_angular_final(q1, q2, l1, l2):\n",
      "    '''\n",
      "    Esta funci\u00f3n devuelve una matriz de transformaci\u00f3n homogenea para el efector final\n",
      "    de un manipulador planar angular con 2 grados de libertad.\n",
      "    \n",
      "    Uso:\n",
      "    \n",
      "    >>> robot_planar_angular_final(radians(30), radians(50), 15, 20)\n",
      "    matrix([[  0.17364818,  -0.98480775,   0.        ,  16.46334461],\n",
      "            [  0.98480775,   0.17364818,   0.        ,  27.19615506],\n",
      "            [  0.        ,   0.        ,   1.        ,   0.        ],\n",
      "            [  0.        ,   0.        ,   0.        ,   1.        ]])\n",
      "    '''\n",
      "    R1 = rotacionz(q1)\n",
      "    T2 = traslacionx(l1)\n",
      "    R3 = rotacionz(q2)\n",
      "    T4 = traslacionx(l2)\n",
      "    return R1*T2*R3*T4"
     ],
     "language": "python",
     "metadata": {},
     "outputs": []
    },
    {
     "cell_type": "code",
     "collapsed": false,
     "input": [
      "robot_planar_angular_final(tau/6, tau/12, 10, 15)"
     ],
     "language": "python",
     "metadata": {},
     "outputs": []
    },
    {
     "cell_type": "markdown",
     "metadata": {},
     "source": [
      "Y con esto podemos mandar llamar una matriz con los angulos que queramos y la distancia del brazo que queramos. Si esto lo multiplicamos por el vector $p_0$ que es:\n",
      "\n",
      "$$ p_0 =\n",
      "\\begin{pmatrix}\n",
      "    0 \\\\\n",
      "    0 \\\\\n",
      "    0 \\\\\n",
      "    1\n",
      "\\end{pmatrix}\n",
      "$$\n",
      "\n",
      "nos dar\u00e1 como resultado el vector de posici\u00f3n del efector final con respecto al origen."
     ]
    },
    {
     "cell_type": "code",
     "collapsed": false,
     "input": [
      "A = robot_planar_angular_final(tau/6, tau/12, 10, 15)\n",
      "p0 = matrix([[0],\n",
      "             [0],\n",
      "             [0],\n",
      "             [1]])\n",
      "A*p0"
     ],
     "language": "python",
     "metadata": {},
     "outputs": []
    },
    {
     "cell_type": "markdown",
     "metadata": {},
     "source": [
      "\u00bfY el punto medio? El punto medio esta justamente en la mitad de nuestras trasnformaciones, tan solo tenemos que definir otra funci\u00f3n que nos de como resultado la matriz de transformaci\u00f3n para el primer eslabon de nuestro manipulador."
     ]
    },
    {
     "cell_type": "code",
     "collapsed": false,
     "input": [
      "def robot_planar_angular_medio(q1, l1):\n",
      "    '''\n",
      "    Esta funci\u00f3n devuelve una matriz de transformaci\u00f3n homogenea para el punto medio\n",
      "    de un manipulador planar angular con 2 grados de libertad.\n",
      "    \n",
      "    Uso:\n",
      "    \n",
      "    >>> robot_planar_angular_medio(radians(30), radians(50), 15, 20)\n",
      "    matrix([[ -0.99690637,   0.07859831,   0.        , -33.62094839],\n",
      "            [ -0.07859831,  -0.99690637,   0.        ,  -7.71854312],\n",
      "            [  0.        ,   0.        ,   1.        ,   0.        ],\n",
      "            [  0.        ,   0.        ,   0.        ,   1.        ]])\n",
      "    '''\n",
      "    R1 = rotacionz(q1)\n",
      "    T2 = traslacionx(l1)\n",
      "    return R1*T2"
     ],
     "language": "python",
     "metadata": {},
     "outputs": []
    },
    {
     "cell_type": "markdown",
     "metadata": {},
     "source": [
      "Y asi calcular tanto el punto medio $p_m$ como el punto final $p_f$ de nuestro manipulador."
     ]
    },
    {
     "cell_type": "code",
     "collapsed": false,
     "input": [
      "pm = robot_planar_angular_medio(tau/6, 10)*p0\n",
      "pf = robot_planar_angular_final(tau/6, tau/12, 10, 15)*p0"
     ],
     "language": "python",
     "metadata": {},
     "outputs": []
    },
    {
     "cell_type": "code",
     "collapsed": false,
     "input": [
      "pm"
     ],
     "language": "python",
     "metadata": {},
     "outputs": []
    },
    {
     "cell_type": "code",
     "collapsed": false,
     "input": [
      "pf"
     ],
     "language": "python",
     "metadata": {},
     "outputs": []
    },
    {
     "cell_type": "markdown",
     "metadata": {},
     "source": [
      "Y notamos que las componentes en $z$ de estos puntos son $0$, lo cual es natural, ya que el manipulador que modelamos solo existe en el plano $x-y$. Tenemos que ignorar los demas datos, y dibujarlos. Revisemos la siguiente notaci\u00f3n para las matrices.\n",
      "\n",
      "En el pasado vimos que los arreglos no eran suficientes para poder hacer algebra lineal, y para eso esta definida la clase matrix en numpy, sin embargo no es totalmente inconexa, es decir, una matriz de numpy tambien es un arreglo, y nos podemos referir a ella de la misma manera. Si queremos el primer objeto de nuestro vector podemos acceder a el asi:\n",
      "\n",
      "    pf[0:1]\n",
      "    \n",
      "Ya que el primer elemento empieza en el lugar 0 y termina en el lugar 1. Existe una notaci\u00f3n abreviada para lo mismo:\n",
      "\n",
      "    pf[0]\n",
      "\n",
      "Como no queremos mas que un elemento, se puede escribir asi sin problemas, pero cuando queremos un rango es necesario poner en donde empieza y donde termina.\n",
      "\n",
      "    pf[0:2]\n",
      "    \n",
      "Nos dar\u00e1 los primeros dos elementos de nuestro vector."
     ]
    },
    {
     "cell_type": "code",
     "collapsed": false,
     "input": [
      "pf[0:2]"
     ],
     "language": "python",
     "metadata": {},
     "outputs": []
    },
    {
     "cell_type": "markdown",
     "metadata": {},
     "source": [
      "Si metemos los dos en un solo arreglo (tres de hecho, tenemos que agregar tambien el punto inicial $p_0$), podremos tenerlos listos para graficar."
     ]
    },
    {
     "cell_type": "code",
     "collapsed": false,
     "input": [
      "p = hstack([p0[0:2], pm[0:2], pf[0:2]]).tolist()\n",
      "p"
     ],
     "language": "python",
     "metadata": {},
     "outputs": []
    },
    {
     "cell_type": "markdown",
     "metadata": {},
     "source": [
      "Esta funci\u00f3n es una implementaci\u00f3n de la funci\u00f3n zip() para las matrices de numpy. Ahora tenemos 2 arreglos, uno con las componentes en $x$ y otro con las componentes en $y$."
     ]
    },
    {
     "cell_type": "code",
     "collapsed": false,
     "input": [
      "min(p[0])"
     ],
     "language": "python",
     "metadata": {},
     "outputs": []
    },
    {
     "cell_type": "code",
     "collapsed": false,
     "input": [
      "plot(p[0], p[1])"
     ],
     "language": "python",
     "metadata": {},
     "outputs": []
    },
    {
     "cell_type": "markdown",
     "metadata": {},
     "source": [
      "Y como siempre, podemos guardar todo nuestro codigo, en una funci\u00f3n simple:"
     ]
    },
    {
     "cell_type": "code",
     "collapsed": false,
     "input": [
      "def grafica_robot_planar(q1, q2, l1, l2):\n",
      "    '''\n",
      "    Esta funci\u00f3n grafica el estado de un manipulador planar angular de dos grados\n",
      "    de libertad.\n",
      "    \n",
      "    Uso:\n",
      "    \n",
      "    >>> grafica_robot_planar(radians(30), radians(50), 15, 20)\n",
      "    [<matplotlib.lines.Line2D at 0xXXXXXXXXX>]\n",
      "    '''\n",
      "    p0 = matrix([[0],\n",
      "                 [0],\n",
      "                 [0],\n",
      "                 [1]])\n",
      "    \n",
      "    pm = robot_planar_angular_medio(q1, l1)*p0\n",
      "    pf = robot_planar_angular_final(q1, q2, l1, l2)*p0\n",
      "    \n",
      "    p = hstack([p0[0:2], pm[0:2], pf[0:2]]).tolist()\n",
      "    \n",
      "    \n",
      "    plot(p[0], p[1])\n",
      "    plot(p[0], p[1], \"o\")\n",
      "    axis(\"scaled\")"
     ],
     "language": "python",
     "metadata": {},
     "outputs": []
    },
    {
     "cell_type": "code",
     "collapsed": false,
     "input": [
      "grafica_robot_planar(radians(30.0), radians(50.0), 15, 20)"
     ],
     "language": "python",
     "metadata": {},
     "outputs": []
    },
    {
     "cell_type": "heading",
     "level": 3,
     "metadata": {},
     "source": [
      "Ejercicio"
     ]
    },
    {
     "cell_type": "markdown",
     "metadata": {},
     "source": [
      "1. Implemente una funci\u00f3n que grafique el estado de un manipulador planar de 3 grados de libertad rotacionales, dados sus parametros angulares y de longitud de sus eslabones.\n",
      "2. Tanto en el ejemplo como en el ejercicio 1, hemos graficado solo $x$ y $y$; ignorando la componente en $z$, ya que al moverse en el plano $x-y$, no tiene componentes en $z$ \u00bfSi quisieramos graficar un manipulador Stanford, que tendriamos que hacer? \u00bfLa vista superior del manipulador que componente ignoraria? \u00bfLa vista frontal? \u00bfLa vista lateral? Grafique estas vistas."
     ]
    }
   ],
   "metadata": {}
  }
 ]
}