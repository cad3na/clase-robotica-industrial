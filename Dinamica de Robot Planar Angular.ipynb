{
 "metadata": {
  "name": ""
 },
 "nbformat": 3,
 "nbformat_minor": 0,
 "worksheets": [
  {
   "cells": [
    {
     "cell_type": "code",
     "collapsed": false,
     "input": [
      "from IPython.display import Image"
     ],
     "language": "python",
     "metadata": {
      "slideshow": {
       "slide_type": "skip"
      }
     },
     "outputs": [],
     "prompt_number": 27
    },
    {
     "cell_type": "heading",
     "level": 1,
     "metadata": {
      "slideshow": {
       "slide_type": "slide"
      }
     },
     "source": [
      "Dinamica de Robot Planar Angular"
     ]
    },
    {
     "cell_type": "heading",
     "level": 2,
     "metadata": {},
     "source": [
      "(Modelo Dinamico de Euler-Lagrange)"
     ]
    },
    {
     "cell_type": "markdown",
     "metadata": {
      "slideshow": {
       "slide_type": "slide"
      }
     },
     "source": [
      "El modelo dinamico de Euler Lagrange se basa en 2 formulas muy basicas:"
     ]
    },
    {
     "cell_type": "markdown",
     "metadata": {
      "slideshow": {
       "slide_type": "subslide"
      }
     },
     "source": [
      "$L = K - U$\n",
      "\n",
      "La funcion Lagrange nos dice que la energia del sistema va a ser la suma de las energias cineticas del sistema, menos la suma de las energias potenciales del sistema."
     ]
    },
    {
     "cell_type": "markdown",
     "metadata": {
      "slideshow": {
       "slide_type": "subslide"
      }
     },
     "source": [
      "Recordemos que la energia cinetica esta definida asi:\n",
      "\n",
      "$K_i = \\frac{1}{2} m_i v_i^2$"
     ]
    },
    {
     "cell_type": "markdown",
     "metadata": {
      "slideshow": {
       "slide_type": "fragment"
      }
     },
     "source": [
      "... no realmente ..."
     ]
    },
    {
     "cell_type": "markdown",
     "metadata": {
      "slideshow": {
       "slide_type": "fragment"
      }
     },
     "source": [
      "en realidad tenemos que agregar un termino mas que proviene del hecho que estamos lidiando con velocidades angulares:\n",
      "\n",
      "$K_i = \\frac{1}{2} m_i v_i^2 + \\frac{1}{2} I_i \\omega_i^2$"
     ]
    },
    {
     "cell_type": "markdown",
     "metadata": {
      "slideshow": {
       "slide_type": "subslide"
      }
     },
     "source": [
      "Y la energia potencial es:\n",
      "\n",
      "$U_i = m_i g h_i$"
     ]
    },
    {
     "cell_type": "markdown",
     "metadata": {
      "slideshow": {
       "slide_type": "fragment"
      }
     },
     "source": [
      "aqui no hay sorpresas :)"
     ]
    },
    {
     "cell_type": "markdown",
     "metadata": {
      "slideshow": {
       "slide_type": "subslide"
      }
     },
     "source": [
      "$\\tau_i = \\frac{d}{dt} \\left( \\frac{\\partial L}{\\partial \\dot{q_i}} \\right) - \\frac{\\partial L}{\\partial q_i}$\n",
      "\n",
      "La funci\u00f3n de los torques (o fuerzas), nos dice que el torque aplicado en cada eslabon para lograr cierto movimiento ser\u00e1 el resultado de la suma de la derivada con respecto al tiempo de la derivada de la funci\u00f3n Lagrange con respecto a la primera derivada de cada variable asociada al grado de libertad, con la derivada de la funci\u00f3n Lagrange con respecto a la variable asociada al grado de libertad..."
     ]
    },
    {
     "cell_type": "markdown",
     "metadata": {
      "slideshow": {
       "slide_type": "fragment"
      }
     },
     "source": [
      "Lo se es mucho, pero la formula no se ve tan mal... o si?"
     ]
    },
    {
     "cell_type": "heading",
     "level": 2,
     "metadata": {
      "slideshow": {
       "slide_type": "slide"
      }
     },
     "source": [
      "El problema"
     ]
    },
    {
     "cell_type": "markdown",
     "metadata": {
      "slideshow": {
       "slide_type": "subslide"
      }
     },
     "source": [
      "Lo primero que tenemos que definir es el problema.\n",
      "\n",
      "Tenemos un robot con dos grados de libertad rotacionales sobre un plano horizontal. Es decir:"
     ]
    },
    {
     "cell_type": "code",
     "collapsed": false,
     "input": [
      "plot([0,1,2], [0,2,8])\n",
      "plot([0,1,2], [0,2,8],'o')\n",
      "axis([0,3,0,10]);"
     ],
     "language": "python",
     "metadata": {
      "slideshow": {
       "slide_type": "subslide"
      }
     },
     "outputs": [
      {
       "metadata": {},
       "output_type": "display_data",
       "png": "[encoded data removed]",
       "text": [
        "<matplotlib.figure.Figure at 0x104c68e10>"
       ]
      }
     ],
     "prompt_number": 9
    },
    {
     "cell_type": "markdown",
     "metadata": {
      "slideshow": {
       "slide_type": "fragment"
      }
     },
     "source": [
      "No le pongan mucha atenci\u00f3n al codigo, tan solo es una representacion de dos eslabones con dos articulaciones, una en el origen y otra entre los dos eslabones."
     ]
    },
    {
     "cell_type": "markdown",
     "metadata": {
      "slideshow": {
       "slide_type": "subslide"
      }
     },
     "source": [
      "Si ponemos atencion a sus coordenadas podremos ver que estan directamente relacionadas a los angulos con los que var\u00eda el motor."
     ]
    },
    {
     "cell_type": "code",
     "collapsed": false,
     "input": [
      "plot([0,1,2], [0,2,8]); plot([0,1,2], [0,2,8],'o'); plot([1,3], [2,6],'--')\n",
      "annotate(r'$(x_1, y_1)$', xy=(1,2), xytext=(1,1)); annotate(r'$(x_2, y_2)$', xy=(2,8), xytext=(2,7))\n",
      "annotate(r'$q_1$', xy=(0,0), xytext=(0.5, 0.5)); annotate(r'$q_2$', xy=(1,2), xytext=(1.5, 4))\n",
      "axis([0,3,0,10]);"
     ],
     "language": "python",
     "metadata": {
      "slideshow": {
       "slide_type": "fragment"
      }
     },
     "outputs": [
      {
       "metadata": {},
       "output_type": "display_data",
       "png": "[encoded data removed]",
       "text": [
        "<matplotlib.figure.Figure at 0x104ca28d0>"
       ]
      }
     ],
     "prompt_number": 23
    },
    {
     "cell_type": "markdown",
     "metadata": {
      "slideshow": {
       "slide_type": "fragment"
      }
     },
     "source": [
      "Por lo tanto las coordenadas para el centro de masa de cada eslabon ser\u00e1n:\n",
      "\n",
      "$x_1 = \\frac{l_1}{2} \\cos{(q_1})$\n",
      "\n",
      "$y_1 = \\frac{l_1}{2} \\sin{(q_1)}$\n",
      "\n",
      "$x_2 = l_1 \\cos{(q_1)} + \\frac{l_2}{2} \\cos{(q_1 + q_2)}$\n",
      "\n",
      "$y_2 = l_1 \\sin{(q_1)} + \\frac{l_2}{2} \\sin{(q_1 + q_2)}$"
     ]
    },
    {
     "cell_type": "markdown",
     "metadata": {
      "slideshow": {
       "slide_type": "subslide"
      }
     },
     "source": [
      "Talvez esto ayude..."
     ]
    },
    {
     "cell_type": "code",
     "collapsed": false,
     "input": [
      "plot([0,1,2], [0,2,8]); plot([0,1,2], [0,2,8],'o')\n",
      "plot([1,3], [2,6],'--'); plot([1,3], [2,2],'--')\n",
      "annotate(r'$(x_1, y_1)$', xy=(1,2), xytext=(1,1)); annotate(r'$(x_2, y_2)$', xy=(2,8), xytext=(2,7))\n",
      "annotate(r'$q_1$', xy=(0,0), xytext=(0.5, 0.5)); annotate(r'$q_2$', xy=(1,2), xytext=(1.5, 4))\n",
      "annotate(r'$q_1$', xy=(1,2), xytext=(1.5, 2.5)); axis([0,3,0,10]);"
     ],
     "language": "python",
     "metadata": {
      "slideshow": {
       "slide_type": "fragment"
      }
     },
     "outputs": [
      {
       "metadata": {},
       "output_type": "display_data",
       "png": "[encoded data removed]",
       "text": [
        "<matplotlib.figure.Figure at 0x104ce9e90>"
       ]
      }
     ],
     "prompt_number": 24
    },
    {
     "cell_type": "markdown",
     "metadata": {
      "slideshow": {
       "slide_type": "-"
      }
     },
     "source": [
      "$x_1 = \\frac{l_1}{2} \\cos{q_1}$\n",
      "\n",
      "$y_1 = \\frac{l_1}{2} \\sin{q_1}$\n",
      "\n",
      "$x_2 = l_1 \\cos{q_1} + \\frac{l_2}{2} \\cos{(q_1 + q_2)}$\n",
      "\n",
      "$y_2 = l_1 \\sin{q_1} + \\frac{l_2}{2} \\sin{(q_1 + q_2)}$"
     ]
    },
    {
     "cell_type": "markdown",
     "metadata": {
      "slideshow": {
       "slide_type": "subslide"
      }
     },
     "source": [
      "Y si tenemos que:\n",
      "\n",
      "$r_1 = (x_1, y_1)$\n",
      "\n",
      "$r_2 = (x_2, y_2)$"
     ]
    },
    {
     "cell_type": "markdown",
     "metadata": {
      "slideshow": {
       "slide_type": "fragment"
      }
     },
     "source": [
      "entonces las velocidades de los eslabones estar\u00e1n dadas por la primera derivada de su posici\u00f3n:\n",
      "\n",
      "$v_1 = \\dot{r_1} = (\\dot{x_1}, \\dot{y_1})$\n",
      "\n",
      "$v_2 = \\dot{r_2} = (\\dot{x_2}, \\dot{y_2})$"
     ]
    },
    {
     "cell_type": "markdown",
     "metadata": {
      "slideshow": {
       "slide_type": "fragment"
      }
     },
     "source": [
      "donde:\n",
      "\n",
      "$\\dot{x_1} = - \\frac{l_1}{2} \\dot{q_1} \\sin{q_1}$\n",
      "\n",
      "$\\dot{y_1} = \\frac{l_1}{2} \\dot{q_1} \\cos{q_1}$\n",
      "\n",
      "$\\dot{x_2} = - l_1 \\dot{q_1} \\sin{q_1} - \\frac{l_2}{2} (\\dot{q_1} + \\dot{q_2}) \\sin{(q_1 + q_2)}$\n",
      "\n",
      "$\\dot{y_2} = l_1 \\dot{q_1} \\cos{q_1} + \\frac{l_2}{2} (\\dot{q_1} + \\dot{q_2}) \\cos{(q_1 + q_2)}$"
     ]
    },
    {
     "cell_type": "markdown",
     "metadata": {
      "slideshow": {
       "slide_type": "subslide"
      }
     },
     "source": [
      "Y si elevamos la velocidad al cuadrado, obtendremos:\n",
      "\n",
      "$v_1^2 = \\frac{l_1^2}{4} \\dot{q_1}^2$\n",
      "\n",
      "$$\n",
      "    v_2^2 =\n",
      "        \\left[ l_1^2 + l_1 1_2 \\cos{q_2} + \\frac{l_2^2}{4} \\right] \\dot{q_1}^2\n",
      "        + \\left[ l_1 l_2 + \\frac{l_2^2}{4} \\right] \\dot{q_1} \\dot{q_2}\n",
      "        + \\frac{l_2^2}{4} \\dot{q_2}^2\n",
      "$$"
     ]
    },
    {
     "cell_type": "heading",
     "level": 2,
     "metadata": {
      "slideshow": {
       "slide_type": "slide"
      }
     },
     "source": [
      "La Energia Cinetica"
     ]
    },
    {
     "cell_type": "markdown",
     "metadata": {
      "slideshow": {
       "slide_type": "subslide"
      }
     },
     "source": [
      "Una vez que tenemos las velocidades de los eslabones podemos sustituirlas en la formula de la energia cinetica.\n",
      "\n",
      "$K_i = \\frac{1}{2} m_i v_i^2 + \\frac{1}{2} I_i \\omega_i^2$"
     ]
    },
    {
     "cell_type": "markdown",
     "metadata": {
      "slideshow": {
       "slide_type": "fragment"
      }
     },
     "source": [
      "Para el primer eslabon tendremos:\n",
      "\n",
      "$K_1 = \\frac{1}{2} m_1 v_1^2 + \\frac{1}{2} I_1 \\omega_1^2$"
     ]
    },
    {
     "cell_type": "markdown",
     "metadata": {
      "slideshow": {
       "slide_type": "fragment"
      }
     },
     "source": [
      "... y sustituyendo $v_1$ y $\\omega_1$:\n",
      "\n",
      "$K_1 = \\frac{1}{8} m_1 l_1^2 + \\frac{1}{2} I_1 \\dot{q_1}^2$"
     ]
    },
    {
     "cell_type": "markdown",
     "metadata": {
      "slideshow": {
       "slide_type": "fragment"
      }
     },
     "source": [
      "... en donde $I_1$ es un termino especifico de la geometria del primer eslabon. No lo tomaremos tanto en cuenta en nuestro analisis (siempre y cuando sepamos que lo podemos calcular en cualquier momento e incluirlo)."
     ]
    },
    {
     "cell_type": "markdown",
     "metadata": {
      "slideshow": {
       "slide_type": "subslide"
      }
     },
     "source": [
      "Y para el segundo eslabon:\n",
      "\n",
      "$$\n",
      "    K_2 =\n",
      "        \\frac{1}{2} m_2 \\left\\{\n",
      "            \\left[ l_1^2 + l_1 1_2 \\cos{q_2} + \\frac{l_2^2}{4} \\right] \\dot{q_1}^2\n",
      "            + \\left[ l_1 l_2 + \\frac{l_2^2}{4} \\right] \\dot{q_1} \\dot{q_2}\n",
      "            + \\frac{l_2^2}{4} \\dot{q_2}^2\n",
      "        \\right\\}\n",
      "        + \\frac{1}{2} I_2 \\dot{q_2}^2\n",
      "$$"
     ]
    },
    {
     "cell_type": "markdown",
     "metadata": {
      "slideshow": {
       "slide_type": "fragment"
      }
     },
     "source": [
      "Si, se que esto empieza a ser sobrecogedor, pero aun no desesperen... falta mas!"
     ]
    },
    {
     "cell_type": "heading",
     "level": 2,
     "metadata": {
      "slideshow": {
       "slide_type": "slide"
      }
     },
     "source": [
      "La Energia Potencial"
     ]
    },
    {
     "cell_type": "markdown",
     "metadata": {
      "slideshow": {
       "slide_type": "subslide"
      }
     },
     "source": [
      "Esta realmente es facil, si analizamos los grados de libertad de nuestro robot planar, nos daremos cuenta que nunca sube o baja. Siempre esta en el mismo plano horizontal, por lo que nuestro trabajo se facilita y podemos decir que:"
     ]
    },
    {
     "cell_type": "markdown",
     "metadata": {
      "slideshow": {
       "slide_type": "fragment"
      }
     },
     "source": [
      "$U = 0$"
     ]
    },
    {
     "cell_type": "code",
     "collapsed": false,
     "input": [
      "Image(url=\"http://ckrickett.files.wordpress.com/2011/09/hooray.jpg\")"
     ],
     "language": "python",
     "metadata": {
      "slideshow": {
       "slide_type": "fragment"
      }
     },
     "outputs": [
      {
       "html": [
        "<img src=\"http://ckrickett.files.wordpress.com/2011/09/hooray.jpg\"/>"
       ],
       "metadata": {},
       "output_type": "pyout",
       "prompt_number": 28,
       "text": [
        "<IPython.core.display.Image at 0x104ccedd0>"
       ]
      }
     ],
     "prompt_number": 28
    }
   ],
   "metadata": {}
  }
 ]
}