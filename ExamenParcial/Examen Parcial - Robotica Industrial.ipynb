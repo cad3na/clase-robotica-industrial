{
 "metadata": {
  "name": ""
 },
 "nbformat": 3,
 "nbformat_minor": 0,
 "worksheets": [
  {
   "cells": [
    {
     "cell_type": "code",
     "collapsed": false,
     "input": [
      "# Importa la funci\u00f3n para imprimir LaTeX en el notebook de IPython\n",
      "from sympy.interactive import printing\n",
      "printing.init_printing()\n",
      "# Importamos funciones utiles para algebra\n",
      "from sympy import var, simplify, collect, expand, solve, sin, cos, Matrix"
     ],
     "language": "python",
     "metadata": {},
     "outputs": [],
     "prompt_number": 1
    },
    {
     "cell_type": "markdown",
     "metadata": {},
     "source": [
      "Peligro!\n",
      "========\n",
      "\n",
      "El siguiente notebook sobrecarga una y otra vez las funciones sin() y cos(), por lo que no es recomendable ir de un lado a otro del documento evaluando sin seguir el orden l\u00f3gico del examen, a menos que sepas lo que estas haciendo. "
     ]
    },
    {
     "cell_type": "heading",
     "level": 1,
     "metadata": {},
     "source": [
      "Ex\u00e1men Bimestral - Rob\u00f3tica Industrial"
     ]
    },
    {
     "cell_type": "heading",
     "level": 2,
     "metadata": {},
     "source": [
      "Problema 1"
     ]
    },
    {
     "cell_type": "markdown",
     "metadata": {},
     "source": [
      "Para el primer problema, tenemos que sacar los parametros DH.\n",
      "\n",
      "Si lo analizamos, podemos ver lo siguiente:\n",
      "\n",
      "| $i$ |$a_i$|$\\alpha_i$|$d_i$ |$\\theta_i$|\n",
      "|-----|-----|----------|------|----------|\n",
      "| $0$ | $0$ |   $0$    |$l_1$ |  $q_1$   |\n",
      "| $1$ |$l_2$|   $0$    | $0$  |  $q_2$   |\n",
      "| $2$ |$l_3$|   $0$    | $0$  |   $0$    |\n",
      "| $3$ | $0$ |   $0$    |$-q_3$|   $0$    |\n",
      "\n",
      "Por lo que definimos una funci\u00f3n para obtener la matriz de transformaci\u00f3n homog\u00e9nea, con los parametros Denavit-Hartenberg y obtenemos todas las transformaciones."
     ]
    },
    {
     "cell_type": "code",
     "collapsed": false,
     "input": [
      "def matDH(a, alpha, d, theta):\n",
      "    '''\n",
      "    Esta funci\u00f3n devuelve una matriz de transformaci\u00f3n homog\u00e9nea, tomando\n",
      "    en cuenta los parametros Denavit Hartenberg.\n",
      "    '''\n",
      "    DH = Matrix([[           cos(theta),           -sin(theta),           0,             a],\n",
      "                 [sin(theta)*cos(alpha), cos(theta)*cos(alpha), -sin(alpha), -d*sin(alpha)],\n",
      "                 [sin(theta)*sin(alpha), cos(theta)*sin(alpha),  cos(alpha),  d*cos(alpha)],\n",
      "                 [                    0,                     0,           0,             1]])\n",
      "    return DH"
     ],
     "language": "python",
     "metadata": {},
     "outputs": [],
     "prompt_number": 14
    },
    {
     "cell_type": "markdown",
     "metadata": {},
     "source": [
      "Definimos las variables a utilizar en el problema:"
     ]
    },
    {
     "cell_type": "code",
     "collapsed": false,
     "input": [
      "var(\"l_1, l_2, l_3, q_1, q_2, q_3, q_4\")"
     ],
     "language": "python",
     "metadata": {},
     "outputs": [
      {
       "latex": [
        "$$\\begin{pmatrix}l_{1}, & l_{2}, & l_{3}, & q_{1}, & q_{2}, & q_{3}, & q_{4}\\end{pmatrix}$$"
       ],
       "metadata": {},
       "output_type": "pyout",
       "png": "[encoded data removed]",
       "prompt_number": 19,
       "text": [
        "(l\u2081, l\u2082, l\u2083, q\u2081, q\u2082, q\u2083, q\u2084)"
       ]
      }
     ],
     "prompt_number": 19
    },
    {
     "cell_type": "markdown",
     "metadata": {},
     "source": [
      "Y obtenemos cada una de las matrices de transformaci\u00f3n."
     ]
    },
    {
     "cell_type": "code",
     "collapsed": false,
     "input": [
      "A_0 = matDH(0,0,l_1, q_1)\n",
      "A_0"
     ],
     "language": "python",
     "metadata": {},
     "outputs": [
      {
       "latex": [
        "$$\\left[\\begin{matrix}\\cos{\\left (q_{1} \\right )} & - \\sin{\\left (q_{1} \\right )} & 0 & 0\\\\\\sin{\\left (q_{1} \\right )} & \\cos{\\left (q_{1} \\right )} & 0 & 0\\\\0 & 0 & 1 & l_{1}\\\\0 & 0 & 0 & 1\\end{matrix}\\right]$$"
       ],
       "metadata": {},
       "output_type": "pyout",
       "png": "[encoded data removed]",
       "prompt_number": 24,
       "text": [
        "\u23a1cos(q\u2081)  -sin(q\u2081)  0  0 \u23a4\n",
        "\u23a2                        \u23a5\n",
        "\u23a2sin(q\u2081)  cos(q\u2081)   0  0 \u23a5\n",
        "\u23a2                        \u23a5\n",
        "\u23a2   0        0      1  l\u2081\u23a5\n",
        "\u23a2                        \u23a5\n",
        "\u23a3   0        0      0  1 \u23a6"
       ]
      }
     ],
     "prompt_number": 24
    },
    {
     "cell_type": "code",
     "collapsed": false,
     "input": [
      "A_1 = matDH(l_2, 0, 0, q_2)\n",
      "A_1"
     ],
     "language": "python",
     "metadata": {},
     "outputs": [
      {
       "latex": [
        "$$\\left[\\begin{matrix}\\cos{\\left (q_{2} \\right )} & - \\sin{\\left (q_{2} \\right )} & 0 & l_{2}\\\\\\sin{\\left (q_{2} \\right )} & \\cos{\\left (q_{2} \\right )} & 0 & 0\\\\0 & 0 & 1 & 0\\\\0 & 0 & 0 & 1\\end{matrix}\\right]$$"
       ],
       "metadata": {},
       "output_type": "pyout",
       "png": "[encoded data removed]",
       "prompt_number": 25,
       "text": [
        "\u23a1cos(q\u2082)  -sin(q\u2082)  0  l\u2082\u23a4\n",
        "\u23a2                        \u23a5\n",
        "\u23a2sin(q\u2082)  cos(q\u2082)   0  0 \u23a5\n",
        "\u23a2                        \u23a5\n",
        "\u23a2   0        0      1  0 \u23a5\n",
        "\u23a2                        \u23a5\n",
        "\u23a3   0        0      0  1 \u23a6"
       ]
      }
     ],
     "prompt_number": 25
    },
    {
     "cell_type": "code",
     "collapsed": false,
     "input": [
      "A_2 = matDH(l_3, 0, 0, 0)\n",
      "A_2"
     ],
     "language": "python",
     "metadata": {},
     "outputs": [
      {
       "latex": [
        "$$\\left[\\begin{matrix}1 & 0 & 0 & l_{3}\\\\0 & 1 & 0 & 0\\\\0 & 0 & 1 & 0\\\\0 & 0 & 0 & 1\\end{matrix}\\right]$$"
       ],
       "metadata": {},
       "output_type": "pyout",
       "png": "[encoded data removed]",
       "prompt_number": 26,
       "text": [
        "\u23a11  0  0  l\u2083\u23a4\n",
        "\u23a2           \u23a5\n",
        "\u23a20  1  0  0 \u23a5\n",
        "\u23a2           \u23a5\n",
        "\u23a20  0  1  0 \u23a5\n",
        "\u23a2           \u23a5\n",
        "\u23a30  0  0  1 \u23a6"
       ]
      }
     ],
     "prompt_number": 26
    },
    {
     "cell_type": "code",
     "collapsed": false,
     "input": [
      "A_3 = matDH(0, 0, -q_3, 0)\n",
      "A_3"
     ],
     "language": "python",
     "metadata": {},
     "outputs": [
      {
       "latex": [
        "$$\\left[\\begin{matrix}1 & 0 & 0 & 0\\\\0 & 1 & 0 & 0\\\\0 & 0 & 1 & - q_{3}\\\\0 & 0 & 0 & 1\\end{matrix}\\right]$$"
       ],
       "metadata": {},
       "output_type": "pyout",
       "png": "[encoded data removed]",
       "prompt_number": 30,
       "text": [
        "\u23a11  0  0   0 \u23a4\n",
        "\u23a2            \u23a5\n",
        "\u23a20  1  0   0 \u23a5\n",
        "\u23a2            \u23a5\n",
        "\u23a20  0  1  -q\u2083\u23a5\n",
        "\u23a2            \u23a5\n",
        "\u23a30  0  0   1 \u23a6"
       ]
      }
     ],
     "prompt_number": 30
    },
    {
     "cell_type": "markdown",
     "metadata": {},
     "source": [
      "Obtenemos la transformaci\u00f3n total, y de aqui podremos sacar la cinem\u00e1tica directa."
     ]
    },
    {
     "cell_type": "code",
     "collapsed": false,
     "input": [
      "A = A_0*A_1*A_2*A_3\n",
      "A"
     ],
     "language": "python",
     "metadata": {},
     "outputs": [
      {
       "latex": [
        "$$\\left[\\begin{matrix}- \\sin{\\left (q_{1} \\right )} \\sin{\\left (q_{2} \\right )} + \\cos{\\left (q_{1} \\right )} \\cos{\\left (q_{2} \\right )} & - \\sin{\\left (q_{1} \\right )} \\cos{\\left (q_{2} \\right )} - \\sin{\\left (q_{2} \\right )} \\cos{\\left (q_{1} \\right )} & 0 & l_{2} \\cos{\\left (q_{1} \\right )} + l_{3} \\left(- \\sin{\\left (q_{1} \\right )} \\sin{\\left (q_{2} \\right )} + \\cos{\\left (q_{1} \\right )} \\cos{\\left (q_{2} \\right )}\\right)\\\\\\sin{\\left (q_{1} \\right )} \\cos{\\left (q_{2} \\right )} + \\sin{\\left (q_{2} \\right )} \\cos{\\left (q_{1} \\right )} & - \\sin{\\left (q_{1} \\right )} \\sin{\\left (q_{2} \\right )} + \\cos{\\left (q_{1} \\right )} \\cos{\\left (q_{2} \\right )} & 0 & l_{2} \\sin{\\left (q_{1} \\right )} + l_{3} \\left(\\sin{\\left (q_{1} \\right )} \\cos{\\left (q_{2} \\right )} + \\sin{\\left (q_{2} \\right )} \\cos{\\left (q_{1} \\right )}\\right)\\\\0 & 0 & 1 & l_{1} - q_{3}\\\\0 & 0 & 0 & 1\\end{matrix}\\right]$$"
       ],
       "metadata": {},
       "output_type": "pyout",
       "png": "[encoded data removed]",
       "prompt_number": 33,
       "text": [
        "\u23a1-sin(q\u2081)\u22c5sin(q\u2082) + cos(q\u2081)\u22c5cos(q\u2082)  -sin(q\u2081)\u22c5cos(q\u2082) - sin(q\u2082)\u22c5cos(q\u2081)  0  l\u2082\n",
        "\u23a2                                                                             \n",
        "\u23a2sin(q\u2081)\u22c5cos(q\u2082) + sin(q\u2082)\u22c5cos(q\u2081)   -sin(q\u2081)\u22c5sin(q\u2082) + cos(q\u2081)\u22c5cos(q\u2082)  0  l\u2082\n",
        "\u23a2                                                                             \n",
        "\u23a2                0                                   0                   1    \n",
        "\u23a2                                                                             \n",
        "\u23a3                0                                   0                   0    \n",
        "\n",
        "\u22c5cos(q\u2081) + l\u2083\u22c5(-sin(q\u2081)\u22c5sin(q\u2082) + cos(q\u2081)\u22c5cos(q\u2082))\u23a4\n",
        "                                                  \u23a5\n",
        "\u22c5sin(q\u2081) + l\u2083\u22c5(sin(q\u2081)\u22c5cos(q\u2082) + sin(q\u2082)\u22c5cos(q\u2081)) \u23a5\n",
        "                                                  \u23a5\n",
        "                    l\u2081 - q\u2083                       \u23a5\n",
        "                                                  \u23a5\n",
        "                       1                          \u23a6"
       ]
      }
     ],
     "prompt_number": 33
    },
    {
     "cell_type": "markdown",
     "metadata": {},
     "source": [
      "Asi pues, la cinem\u00e1tica directa ser\u00e1:\n",
      "\n",
      "$$\n",
      "x = l_{2} \\cos{\\left (q_{1} \\right )} + l_{3} \\left(- \\sin{\\left (q_{1} \\right )} \\sin{\\left (q_{2} \\right )} + \\cos{\\left (q_{1} \\right )} \\cos{\\left (q_{2} \\right )}\\right)\n",
      "$$\n",
      "\n",
      "$$\n",
      "y = l_{2} \\sin{\\left (q_{1} \\right )} + l_{3} \\left(\\sin{\\left (q_{1} \\right )} \\cos{\\left (q_{2} \\right )} + \\sin{\\left (q_{2} \\right )} \\cos{\\left (q_{1} \\right )}\\right)\n",
      "$$\n",
      "\n",
      "$$\n",
      "z = l_{1} - q_{3}\n",
      "$$"
     ]
    },
    {
     "cell_type": "markdown",
     "metadata": {},
     "source": [
      "Alternativamente se puede notar la simplificaci\u00f3n de estos terminos de la siguiente manera:"
     ]
    },
    {
     "cell_type": "code",
     "collapsed": false,
     "input": [
      "simplify(A)"
     ],
     "language": "python",
     "metadata": {},
     "outputs": [
      {
       "latex": [
        "$$\\left[\\begin{matrix}\\cos{\\left (q_{1} + q_{2} \\right )} & - \\sin{\\left (q_{1} + q_{2} \\right )} & 0 & l_{2} \\cos{\\left (q_{1} \\right )} + l_{3} \\cos{\\left (q_{1} + q_{2} \\right )}\\\\\\sin{\\left (q_{1} + q_{2} \\right )} & \\cos{\\left (q_{1} + q_{2} \\right )} & 0 & l_{2} \\sin{\\left (q_{1} \\right )} + l_{3} \\sin{\\left (q_{1} + q_{2} \\right )}\\\\0 & 0 & 1 & l_{1} - q_{3}\\\\0 & 0 & 0 & 1\\end{matrix}\\right]$$"
       ],
       "metadata": {},
       "output_type": "pyout",
       "png": "[encoded data removed]",
       "prompt_number": 34,
       "text": [
        "\u23a1cos(q\u2081 + q\u2082)  -sin(q\u2081 + q\u2082)  0  l\u2082\u22c5cos(q\u2081) + l\u2083\u22c5cos(q\u2081 + q\u2082)\u23a4\n",
        "\u23a2                                                            \u23a5\n",
        "\u23a2sin(q\u2081 + q\u2082)  cos(q\u2081 + q\u2082)   0  l\u2082\u22c5sin(q\u2081) + l\u2083\u22c5sin(q\u2081 + q\u2082)\u23a5\n",
        "\u23a2                                                            \u23a5\n",
        "\u23a2     0              0        1            l\u2081 - q\u2083           \u23a5\n",
        "\u23a2                                                            \u23a5\n",
        "\u23a3     0              0        0               1              \u23a6"
       ]
      }
     ],
     "prompt_number": 34
    },
    {
     "cell_type": "markdown",
     "metadata": {},
     "source": [
      "Por lo que la cinem\u00e1tica directa quedar\u00eda:\n",
      "\n",
      "$$\n",
      "x = l_{2} \\cos{\\left (q_{1} \\right )} + l_{3} \\cos{\\left (q_{1} + q_{2} \\right )}\n",
      "$$\n",
      "\n",
      "$$\n",
      "y = l_{2} \\sin{\\left (q_{1} \\right )} + l_{3} \\sin{\\left (q_{1} + q_{2} \\right )}\n",
      "$$\n",
      "\n",
      "$$\n",
      "z = l_{1} - q_{3}\n",
      "$$"
     ]
    },
    {
     "cell_type": "heading",
     "level": 2,
     "metadata": {},
     "source": [
      "Problema 2"
     ]
    },
    {
     "cell_type": "markdown",
     "metadata": {},
     "source": [
      "Para el segundo problema podemos utlizar la cinem\u00e1tica ya obtenida en la pr\u00e1ctica 2 para un manipulador planar angular de 3 grados de libertad. Para resolver el problema **no** es necesario desarrollar esta cinem\u00e1tica, incluso pudo haber sido resuelto por puros argumentos geom\u00e9tricos y tener puntuaci\u00f3n completa.\n",
      "\n",
      "Si revisamos la configuraci\u00f3n del manipulador, podemos ver que sus parametros Denavit-Hartenberg son:\n",
      "\n",
      "| $i$ |$a_i$|$\\alpha_i$|$d_i$|$\\theta_i$|\n",
      "|-----|-----|----------|-----|----------|\n",
      "| $0$ | $0$ |   $0$    | $0$ |  $q_1$   |\n",
      "| $1$ |$l_1$|   $0$    | $0$ |  $q_2$   |\n",
      "| $2$ |$l_2$|   $0$    | $0$ |  $q_3$   |\n",
      "| $3$ |$l_3$|   $0$    | $0$ |   $0$    |"
     ]
    },
    {
     "cell_type": "markdown",
     "metadata": {},
     "source": [
      "Y la cinem\u00e1tica directa ser\u00e1:"
     ]
    },
    {
     "cell_type": "code",
     "collapsed": false,
     "input": [
      "A_0 = matDH(  0, 0, 0, q_1)\n",
      "A_1 = matDH(l_1, 0, 0, q_2)\n",
      "A_2 = matDH(l_2, 0, 0, q_3)\n",
      "A_3 = matDH(l_3, 0, 0,   0)\n",
      "A = A_0*A_1*A_2*A_3\n",
      "A"
     ],
     "language": "python",
     "metadata": {},
     "outputs": [
      {
       "latex": [
        "$$\\left[\\begin{matrix}\\left(- \\sin{\\left (q_{1} \\right )} \\sin{\\left (q_{2} \\right )} + \\cos{\\left (q_{1} \\right )} \\cos{\\left (q_{2} \\right )}\\right) \\cos{\\left (q_{3} \\right )} + \\left(- \\sin{\\left (q_{1} \\right )} \\cos{\\left (q_{2} \\right )} - \\sin{\\left (q_{2} \\right )} \\cos{\\left (q_{1} \\right )}\\right) \\sin{\\left (q_{3} \\right )} & - \\left(- \\sin{\\left (q_{1} \\right )} \\sin{\\left (q_{2} \\right )} + \\cos{\\left (q_{1} \\right )} \\cos{\\left (q_{2} \\right )}\\right) \\sin{\\left (q_{3} \\right )} + \\left(- \\sin{\\left (q_{1} \\right )} \\cos{\\left (q_{2} \\right )} - \\sin{\\left (q_{2} \\right )} \\cos{\\left (q_{1} \\right )}\\right) \\cos{\\left (q_{3} \\right )} & 0 & l_{1} \\cos{\\left (q_{1} \\right )} + l_{2} \\left(- \\sin{\\left (q_{1} \\right )} \\sin{\\left (q_{2} \\right )} + \\cos{\\left (q_{1} \\right )} \\cos{\\left (q_{2} \\right )}\\right) + l_{3} \\left(\\left(- \\sin{\\left (q_{1} \\right )} \\sin{\\left (q_{2} \\right )} + \\cos{\\left (q_{1} \\right )} \\cos{\\left (q_{2} \\right )}\\right) \\cos{\\left (q_{3} \\right )} + \\left(- \\sin{\\left (q_{1} \\right )} \\cos{\\left (q_{2} \\right )} - \\sin{\\left (q_{2} \\right )} \\cos{\\left (q_{1} \\right )}\\right) \\sin{\\left (q_{3} \\right )}\\right)\\\\\\left(- \\sin{\\left (q_{1} \\right )} \\sin{\\left (q_{2} \\right )} + \\cos{\\left (q_{1} \\right )} \\cos{\\left (q_{2} \\right )}\\right) \\sin{\\left (q_{3} \\right )} + \\left(\\sin{\\left (q_{1} \\right )} \\cos{\\left (q_{2} \\right )} + \\sin{\\left (q_{2} \\right )} \\cos{\\left (q_{1} \\right )}\\right) \\cos{\\left (q_{3} \\right )} & \\left(- \\sin{\\left (q_{1} \\right )} \\sin{\\left (q_{2} \\right )} + \\cos{\\left (q_{1} \\right )} \\cos{\\left (q_{2} \\right )}\\right) \\cos{\\left (q_{3} \\right )} - \\left(\\sin{\\left (q_{1} \\right )} \\cos{\\left (q_{2} \\right )} + \\sin{\\left (q_{2} \\right )} \\cos{\\left (q_{1} \\right )}\\right) \\sin{\\left (q_{3} \\right )} & 0 & l_{1} \\sin{\\left (q_{1} \\right )} + l_{2} \\left(\\sin{\\left (q_{1} \\right )} \\cos{\\left (q_{2} \\right )} + \\sin{\\left (q_{2} \\right )} \\cos{\\left (q_{1} \\right )}\\right) + l_{3} \\left(\\left(- \\sin{\\left (q_{1} \\right )} \\sin{\\left (q_{2} \\right )} + \\cos{\\left (q_{1} \\right )} \\cos{\\left (q_{2} \\right )}\\right) \\sin{\\left (q_{3} \\right )} + \\left(\\sin{\\left (q_{1} \\right )} \\cos{\\left (q_{2} \\right )} + \\sin{\\left (q_{2} \\right )} \\cos{\\left (q_{1} \\right )}\\right) \\cos{\\left (q_{3} \\right )}\\right)\\\\0 & 0 & 1 & 0\\\\0 & 0 & 0 & 1\\end{matrix}\\right]$$"
       ],
       "metadata": {},
       "output_type": "pyout",
       "png": "[encoded data removed]",
       "prompt_number": 35,
       "text": [
        "\u23a1(-sin(q\u2081)\u22c5sin(q\u2082) + cos(q\u2081)\u22c5cos(q\u2082))\u22c5cos(q\u2083) + (-sin(q\u2081)\u22c5cos(q\u2082) - sin(q\u2082)\u22c5co\n",
        "\u23a2                                                                             \n",
        "\u23a2(-sin(q\u2081)\u22c5sin(q\u2082) + cos(q\u2081)\u22c5cos(q\u2082))\u22c5sin(q\u2083) + (sin(q\u2081)\u22c5cos(q\u2082) + sin(q\u2082)\u22c5cos\n",
        "\u23a2                                                                             \n",
        "\u23a2                                             0                               \n",
        "\u23a2                                                                             \n",
        "\u23a3                                             0                               \n",
        "\n",
        "s(q\u2081))\u22c5sin(q\u2083)  -(-sin(q\u2081)\u22c5sin(q\u2082) + cos(q\u2081)\u22c5cos(q\u2082))\u22c5sin(q\u2083) + (-sin(q\u2081)\u22c5cos(\n",
        "                                                                              \n",
        "(q\u2081))\u22c5cos(q\u2083)    (-sin(q\u2081)\u22c5sin(q\u2082) + cos(q\u2081)\u22c5cos(q\u2082))\u22c5cos(q\u2083) - (sin(q\u2081)\u22c5cos(q\n",
        "                                                                              \n",
        "                                                             0                \n",
        "                                                                              \n",
        "                                                             0                \n",
        "\n",
        "q\u2082) - sin(q\u2082)\u22c5cos(q\u2081))\u22c5cos(q\u2083)  0  l\u2081\u22c5cos(q\u2081) + l\u2082\u22c5(-sin(q\u2081)\u22c5sin(q\u2082) + cos(q\u2081)\n",
        "                                                                              \n",
        "\u2082) + sin(q\u2082)\u22c5cos(q\u2081))\u22c5sin(q\u2083)   0   l\u2081\u22c5sin(q\u2081) + l\u2082\u22c5(sin(q\u2081)\u22c5cos(q\u2082) + sin(q\u2082)\n",
        "                                                                              \n",
        "                                1                                             \n",
        "                                                                              \n",
        "                                0                                             \n",
        "\n",
        "\u22c5cos(q\u2082)) + l\u2083\u22c5((-sin(q\u2081)\u22c5sin(q\u2082) + cos(q\u2081)\u22c5cos(q\u2082))\u22c5cos(q\u2083) + (-sin(q\u2081)\u22c5cos(q\n",
        "                                                                              \n",
        "\u22c5cos(q\u2081)) + l\u2083\u22c5((-sin(q\u2081)\u22c5sin(q\u2082) + cos(q\u2081)\u22c5cos(q\u2082))\u22c5sin(q\u2083) + (sin(q\u2081)\u22c5cos(q\u2082\n",
        "                                                                              \n",
        "                                0                                             \n",
        "                                                                              \n",
        "                                1                                             \n",
        "\n",
        "\u2082) - sin(q\u2082)\u22c5cos(q\u2081))\u22c5sin(q\u2083))\u23a4\n",
        "                              \u23a5\n",
        ") + sin(q\u2082)\u22c5cos(q\u2081))\u22c5cos(q\u2083)) \u23a5\n",
        "                              \u23a5\n",
        "                              \u23a5\n",
        "                              \u23a5\n",
        "                              \u23a6"
       ]
      }
     ],
     "prompt_number": 35
    },
    {
     "cell_type": "markdown",
     "metadata": {},
     "source": [
      "Lo cual ni siquiera se puede ver bien en la pantalla, pero si simplificamos:"
     ]
    },
    {
     "cell_type": "code",
     "collapsed": false,
     "input": [
      "simplify(A)"
     ],
     "language": "python",
     "metadata": {},
     "outputs": [
      {
       "latex": [
        "$$\\left[\\begin{matrix}\\cos{\\left (q_{1} + q_{2} + q_{3} \\right )} & - \\sin{\\left (q_{1} + q_{2} + q_{3} \\right )} & 0 & l_{1} \\cos{\\left (q_{1} \\right )} + l_{2} \\cos{\\left (q_{1} + q_{2} \\right )} + l_{3} \\cos{\\left (q_{1} + q_{2} + q_{3} \\right )}\\\\\\sin{\\left (q_{1} + q_{2} + q_{3} \\right )} & \\cos{\\left (q_{1} + q_{2} + q_{3} \\right )} & 0 & l_{1} \\sin{\\left (q_{1} \\right )} + l_{2} \\sin{\\left (q_{1} + q_{2} \\right )} + l_{3} \\sin{\\left (q_{1} + q_{2} + q_{3} \\right )}\\\\0 & 0 & 1 & 0\\\\0 & 0 & 0 & 1\\end{matrix}\\right]$$"
       ],
       "metadata": {},
       "output_type": "pyout",
       "png": "[encoded data removed]",
       "prompt_number": 36,
       "text": [
        "\u23a1cos(q\u2081 + q\u2082 + q\u2083)  -sin(q\u2081 + q\u2082 + q\u2083)  0  l\u2081\u22c5cos(q\u2081) + l\u2082\u22c5cos(q\u2081 + q\u2082) + l\u2083\u22c5c\n",
        "\u23a2                                                                             \n",
        "\u23a2sin(q\u2081 + q\u2082 + q\u2083)  cos(q\u2081 + q\u2082 + q\u2083)   0  l\u2081\u22c5sin(q\u2081) + l\u2082\u22c5sin(q\u2081 + q\u2082) + l\u2083\u22c5s\n",
        "\u23a2                                                                             \n",
        "\u23a2        0                  0           1                           0         \n",
        "\u23a2                                                                             \n",
        "\u23a3        0                  0           0                           1         \n",
        "\n",
        "os(q\u2081 + q\u2082 + q\u2083)\u23a4\n",
        "                \u23a5\n",
        "in(q\u2081 + q\u2082 + q\u2083)\u23a5\n",
        "                \u23a5\n",
        "                \u23a5\n",
        "                \u23a5\n",
        "                \u23a6"
       ]
      }
     ],
     "prompt_number": 36
    },
    {
     "cell_type": "markdown",
     "metadata": {},
     "source": [
      "Obtenemos las siguientes ecuaciones para la posici\u00f3n final:\n",
      "\n",
      "$$\n",
      "x = l_{1} \\cos{\\left (q_{1} \\right )} + l_{2} \\cos{\\left (q_{1} + q_{2} \\right )} + l_{3} \\cos{\\left (q_{1} + q_{2} + q_{3} \\right )}\n",
      "$$\n",
      "\n",
      "$$\n",
      "y = l_{1} \\sin{\\left (q_{1} \\right )} + l_{2} \\sin{\\left (q_{1} + q_{2} \\right )} + l_{3} \\sin{\\left (q_{1} + q_{2} + q_{3} \\right )}\n",
      "$$\n",
      "\n",
      "Las cuales podemos meter en funciones de la siguiente manera:"
     ]
    },
    {
     "cell_type": "code",
     "collapsed": false,
     "input": [
      "from pylab import *"
     ],
     "language": "python",
     "metadata": {},
     "outputs": [],
     "prompt_number": 47
    },
    {
     "cell_type": "code",
     "collapsed": false,
     "input": [
      "x = lambda q1, q2, q3, l1, l2, l3: l1*cos(q1) + l2*cos(q1 + q2) + l3*cos(q1 + q2 + q3)\n",
      "y = lambda q1, q2, q3, l1, l2, l3: l1*sin(q1) + l2*sin(q1 + q2) + l3*sin(q1 + q2 + q3)"
     ],
     "language": "python",
     "metadata": {},
     "outputs": [],
     "prompt_number": 48
    },
    {
     "cell_type": "markdown",
     "metadata": {},
     "source": [
      "Asi que ahora solo tenemos que descubrir los angulos de la figura. Podemos utlizar la funci\u00f3n para gr\u00e1ficar un robot y mostrar un esquema simplificado."
     ]
    },
    {
     "cell_type": "code",
     "collapsed": false,
     "input": [
      "def rotacionz(theta):\n",
      "    '''\n",
      "    Esta funci\u00f3n devuelve una matriz de transformaci\u00f3n homogenea para la rotaci\u00f3n\n",
      "    alrededor del eje z con un angulo theta.\n",
      "    '''\n",
      "    Rz = matrix([[cos(theta), -sin(theta), 0, 0],\n",
      "                 [sin(theta),  cos(theta), 0, 0],\n",
      "                 [0,           0,          1, 0],\n",
      "                 [0,           0,          0, 1]])\n",
      "    return Rz\n",
      "\n",
      "def traslacionx(d):\n",
      "    '''\n",
      "    Esta funci\u00f3n devuelve una matriz de transformaci\u00f3n homogenea para la traslaci\u00f3n\n",
      "    a lo largo del eje x con una distancia d.\n",
      "    '''\n",
      "    Tx = matrix([[1, 0, 0, d],\n",
      "                 [0, 1, 0, 0],\n",
      "                 [0, 0, 1, 0],\n",
      "                 [0, 0, 0, 1]])\n",
      "    return Tx\n",
      "\n",
      "def robot_planar_angular_A(q1, l1):\n",
      "    '''\n",
      "    Esta funci\u00f3n devuelve una matriz de transformaci\u00f3n homogenea para el punto medio\n",
      "    de un manipulador planar angular con 1 grado de libertad.\n",
      "    '''\n",
      "    R1 = rotacionz(q1)\n",
      "    T2 = traslacionx(l1)\n",
      "    return R1*T2\n",
      "\n",
      "def robot_planar_angular_B(q1, q2, l1, l2):\n",
      "    '''\n",
      "    Esta funci\u00f3n devuelve una matriz de transformaci\u00f3n homogenea para el efector final\n",
      "    de un manipulador planar angular con 2 grados de libertad.\n",
      "    '''\n",
      "    R1 = rotacionz(q1)\n",
      "    T2 = traslacionx(l1)\n",
      "    R3 = rotacionz(q2)\n",
      "    T4 = traslacionx(l2)\n",
      "    return R1*T2*R3*T4\n",
      "\n",
      "def robot_planar_angular_C(q1, q2, q3, l1, l2, l3):\n",
      "    '''\n",
      "    Esta funci\u00f3n devuelve una matriz de transformaci\u00f3n homogenea para el efector final\n",
      "    de un manipulador planar angular con 3 grados de libertad.\n",
      "    '''\n",
      "    R1 = rotacionz(q1)\n",
      "    T2 = traslacionx(l1)\n",
      "    R3 = rotacionz(q2)\n",
      "    T4 = traslacionx(l2)\n",
      "    R5 = rotacionz(q3)\n",
      "    T6 = traslacionx(l3)\n",
      "    return R1*T2*R3*T4*R5*T6\n",
      "\n",
      "def grafica_robot_planar_angular(q1, q2, q3, l1, l2, l3):\n",
      "    '''\n",
      "    Esta funci\u00f3n grafica el estado de un manipulador planar angular de 3 grados\n",
      "    de libertad.\n",
      "    '''\n",
      "    p0 = matrix([[0],\n",
      "                 [0],\n",
      "                 [0],\n",
      "                 [1]])\n",
      "    \n",
      "    pA = robot_planar_angular_A(q1, l1)*p0\n",
      "    pB = robot_planar_angular_B(q1, q2, l1, l2)*p0\n",
      "    pC = robot_planar_angular_C(q1, q2, q3, l1, l2, l3)*p0\n",
      "    \n",
      "    p = hstack([p0[0:2], pA[0:2], pB[0:2], pC[0:2]]).tolist()\n",
      "    \n",
      "    \n",
      "    plot(p[0], p[1])\n",
      "    plot(p[0], p[1], \"o\")\n",
      "    axis(\"scaled\")"
     ],
     "language": "python",
     "metadata": {},
     "outputs": [],
     "prompt_number": 41
    },
    {
     "cell_type": "markdown",
     "metadata": {},
     "source": [
      "Intentemos gr\u00e1ficar la configuraci\u00f3n inicial del robot."
     ]
    },
    {
     "cell_type": "code",
     "collapsed": false,
     "input": [
      "grafica_robot_planar_angular(radians(30), radians(-20), radians(0), 0.300, 0.250, 0.250)"
     ],
     "language": "python",
     "metadata": {},
     "outputs": [
      {
       "metadata": {},
       "output_type": "display_data",
       "png": "[encoded data removed]",
       "text": [
        "<matplotlib.figure.Figure at 0x1063e1190>"
       ]
      }
     ],
     "prompt_number": 42
    },
    {
     "cell_type": "markdown",
     "metadata": {},
     "source": [
      "Esto no parece estar bien... resulta que los angulos $q_1$, $q_2$ y $q_3$ no son $30^o$, $-20^o$ y $0^o$. Mas bien estan compuestos, de hecho, si revisamos la cinem\u00e1tica directa, nos podemos dar cuenta que el angulo al que esta el primer eslabon es $q_1$, el segundo eslabon esta a $q_1 + q_2$ y el tercer eslabon esta a $q_1 + q_2 + q_3$. Entonces podemos ver que los angulos en realidad son:\n",
      "\n",
      "$$\n",
      "q_1 = 30^o\n",
      "$$\n",
      "\n",
      "$$\n",
      "q_2 = -50^o\n",
      "$$\n",
      "\n",
      "$$\n",
      "q_3 = 20^o\n",
      "$$\n",
      "\n",
      "Y si metemos estos angulos en nuestra funci\u00f3n para gr\u00e1ficar:"
     ]
    },
    {
     "cell_type": "code",
     "collapsed": false,
     "input": [
      "grafica_robot_planar_angular(radians(30), radians(-50), radians(20), 0.300, 0.250, 0.250)"
     ],
     "language": "python",
     "metadata": {},
     "outputs": [
      {
       "metadata": {},
       "output_type": "display_data",
       "png": "[encoded data removed]",
       "text": [
        "<matplotlib.figure.Figure at 0x106542c50>"
       ]
      }
     ],
     "prompt_number": 44
    },
    {
     "cell_type": "markdown",
     "metadata": {},
     "source": [
      "Y ahora si, podemos sumar los angulos que gira nuestro manipulador"
     ]
    },
    {
     "cell_type": "code",
     "collapsed": false,
     "input": [
      "q1, q2, q3 = 30, -50, 20\n",
      "\n",
      "q1 +=  30\n",
      "q2 +=  60\n",
      "q3 += -80\n",
      "\n",
      "q1, q2, q3"
     ],
     "language": "python",
     "metadata": {},
     "outputs": [
      {
       "latex": [
        "$$\\begin{pmatrix}60, & 10, & -60\\end{pmatrix}$$"
       ],
       "metadata": {},
       "output_type": "pyout",
       "png": "[encoded data removed]",
       "prompt_number": 45,
       "text": [
        "(60, 10, -60)"
       ]
      }
     ],
     "prompt_number": 45
    },
    {
     "cell_type": "markdown",
     "metadata": {},
     "source": [
      "Ahora podemos gr\u00e1ficar esta configuraci\u00f3n y sacar la posici\u00f3n final:"
     ]
    },
    {
     "cell_type": "code",
     "collapsed": false,
     "input": [
      "grafica_robot_planar_angular(radians(q1), radians(q2), radians(q3), 0.300, 0.250, 0.250)"
     ],
     "language": "python",
     "metadata": {},
     "outputs": [
      {
       "metadata": {},
       "output_type": "display_data",
       "png": "[encoded data removed]",
       "text": [
        "<matplotlib.figure.Figure at 0x1063e3c90>"
       ]
      }
     ],
     "prompt_number": 50
    },
    {
     "cell_type": "code",
     "collapsed": false,
     "input": [
      "x(radians(q1), radians(q2), radians(q3), 0.300, 0.250, 0.250)"
     ],
     "language": "python",
     "metadata": {},
     "outputs": [
      {
       "latex": [
        "$$0.481706974084$$"
       ],
       "metadata": {},
       "output_type": "pyout",
       "png": "[encoded data removed]",
       "prompt_number": 51,
       "text": [
        "0.481706974084"
       ]
      }
     ],
     "prompt_number": 51
    },
    {
     "cell_type": "code",
     "collapsed": false,
     "input": [
      "y(radians(q1), radians(q2), radians(q3), 0.300, 0.250, 0.250)"
     ],
     "language": "python",
     "metadata": {},
     "outputs": [
      {
       "latex": [
        "$$0.538142820749$$"
       ],
       "metadata": {},
       "output_type": "pyout",
       "png": "[encoded data removed]",
       "prompt_number": 52,
       "text": [
        "0.538142820749"
       ]
      }
     ],
     "prompt_number": 52
    },
    {
     "cell_type": "heading",
     "level": 2,
     "metadata": {},
     "source": [
      "Problema 3"
     ]
    },
    {
     "cell_type": "markdown",
     "metadata": {},
     "source": [
      "En el tercer problema tenemos que obtener el Jacobiano de la siguiente cinem\u00e1tica directa:\n",
      "\n",
      "$$\n",
      "x = l_{3} \\cos{\\left (q_{1} \\right )} \\cos{\\left (q_{2} \\right )} - l_{3} \\sin{\\left (q_{1} \\right )} \\sin{\\left (q_{2} \\right )} + l_{2} \\cos{\\left (q_{1} \\right )}\n",
      "$$\n",
      "\n",
      "$$\n",
      "y = l_{3} \\sin{\\left (q_{1} \\right )} \\cos{\\left (q_{2} \\right )} - l_{3} \\cos{\\left (q_{1} \\right )} \\sin{\\left (q_{2} \\right )} + l_{2} \\sin{\\left (q_{1} \\right )}\n",
      "$$\n",
      "\n",
      "$$\n",
      "z = l_{1} - q_{3}\n",
      "$$"
     ]
    },
    {
     "cell_type": "code",
     "collapsed": false,
     "input": [
      "# Vuelvo a cargar las funciones de seno y coseno de sympy que reemplace por las de pylab\n",
      "from sympy import sin, cos"
     ],
     "language": "python",
     "metadata": {},
     "outputs": [],
     "prompt_number": 53
    },
    {
     "cell_type": "markdown",
     "metadata": {},
     "source": [
      "Podemos definir funciones con la cinem\u00e1tica directa y despues cargarle las variables simbolicas de sympy."
     ]
    },
    {
     "cell_type": "code",
     "collapsed": false,
     "input": [
      "x = lambda q1, q2, l2, l3: l3*cos(q1)*cos(q2) - l3*sin(q1)*sin(q2) + l2*cos(q1)\n",
      "y = lambda q1, q2, l2, l3: l3*sin(q1)*cos(q2) - l3*cos(q1)*sin(q2) + l2*sin(q1)\n",
      "z = lambda q3, l1: l1 - q3"
     ],
     "language": "python",
     "metadata": {},
     "outputs": [],
     "prompt_number": 55
    },
    {
     "cell_type": "markdown",
     "metadata": {},
     "source": [
      "Se guardan las funciones de $x$, $y$ y $z$ para poder manipularlas mas facilmente."
     ]
    },
    {
     "cell_type": "code",
     "collapsed": false,
     "input": [
      "funcionx = x(q_1, q_2, l_2, l_3)\n",
      "funciony = y(q_1, q_2, l_2, l_3)\n",
      "funcionz = z(q_3, l_1)"
     ],
     "language": "python",
     "metadata": {},
     "outputs": [],
     "prompt_number": 57
    },
    {
     "cell_type": "markdown",
     "metadata": {},
     "source": [
      "Y asi, la definici\u00f3n de Jacobiano simplemente se escribe de la siguiente manera:"
     ]
    },
    {
     "cell_type": "code",
     "collapsed": false,
     "input": [
      "J = Matrix([[funcionx.diff(q_1), funcionx.diff(q_2), funcionx.diff(q_3)],\n",
      "            [funciony.diff(q_1), funciony.diff(q_2), funciony.diff(q_3)],\n",
      "            [funcionz.diff(q_1), funcionz.diff(q_2), funcionz.diff(q_3)]])\n",
      "J"
     ],
     "language": "python",
     "metadata": {},
     "outputs": [
      {
       "latex": [
        "$$\\left[\\begin{matrix}- l_{2} \\sin{\\left (q_{1} \\right )} - l_{3} \\sin{\\left (q_{1} \\right )} \\cos{\\left (q_{2} \\right )} - l_{3} \\sin{\\left (q_{2} \\right )} \\cos{\\left (q_{1} \\right )} & - l_{3} \\sin{\\left (q_{1} \\right )} \\cos{\\left (q_{2} \\right )} - l_{3} \\sin{\\left (q_{2} \\right )} \\cos{\\left (q_{1} \\right )} & 0\\\\l_{2} \\cos{\\left (q_{1} \\right )} + l_{3} \\sin{\\left (q_{1} \\right )} \\sin{\\left (q_{2} \\right )} + l_{3} \\cos{\\left (q_{1} \\right )} \\cos{\\left (q_{2} \\right )} & - l_{3} \\sin{\\left (q_{1} \\right )} \\sin{\\left (q_{2} \\right )} - l_{3} \\cos{\\left (q_{1} \\right )} \\cos{\\left (q_{2} \\right )} & 0\\\\0 & 0 & -1\\end{matrix}\\right]$$"
       ],
       "metadata": {},
       "output_type": "pyout",
       "png": "[encoded data removed]",
       "prompt_number": 59,
       "text": [
        "\u23a1-l\u2082\u22c5sin(q\u2081) - l\u2083\u22c5sin(q\u2081)\u22c5cos(q\u2082) - l\u2083\u22c5sin(q\u2082)\u22c5cos(q\u2081)  -l\u2083\u22c5sin(q\u2081)\u22c5cos(q\u2082) - \n",
        "\u23a2                                                                             \n",
        "\u23a2l\u2082\u22c5cos(q\u2081) + l\u2083\u22c5sin(q\u2081)\u22c5sin(q\u2082) + l\u2083\u22c5cos(q\u2081)\u22c5cos(q\u2082)   -l\u2083\u22c5sin(q\u2081)\u22c5sin(q\u2082) - \n",
        "\u23a2                                                                             \n",
        "\u23a3                          0                                               0  \n",
        "\n",
        "l\u2083\u22c5sin(q\u2082)\u22c5cos(q\u2081)  0 \u23a4\n",
        "                      \u23a5\n",
        "l\u2083\u22c5cos(q\u2081)\u22c5cos(q\u2082)  0 \u23a5\n",
        "                      \u23a5\n",
        "                    -1\u23a6"
       ]
      }
     ],
     "prompt_number": 59
    }
   ],
   "metadata": {}
  }
 ]
}